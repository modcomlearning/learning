{
    "cells": [
        {
            "metadata": {},
            "cell_type": "code",
            "source": "import pandas\n# pandas is used to acquire data, prepare data and help data understanding\nimport sklearn\n# sklearn is used to create ML models, train, test/evaluate/deploy/\ndata = pandas.read_csv(\"http://modcom.co.ke/datasets/Advertising.csv\")\nprint(data)\n",
            "execution_count": 1,
            "outputs": [
                {
                    "output_type": "stream",
                    "text": "      No     TV  Radio  Newspaper  Sales\n0      1  230.1   37.8       69.2   22.1\n1      2   44.5   39.3       45.1   10.4\n2      3   17.2   45.9       69.3    9.3\n3      4  151.5   41.3       58.5   18.5\n4      5  180.8   10.8       58.4   12.9\n5      6    8.7   48.9       75.0    7.2\n6      7   57.5   32.8       23.5   11.8\n7      8  120.2   19.6       11.6   13.2\n8      9    8.6    2.1        1.0    4.8\n9     10  199.8    2.6       21.2   10.6\n10    11   66.1    5.8       24.2    8.6\n11    12  214.7   24.0        4.0   17.4\n12    13   23.8   35.1       65.9    9.2\n13    14   97.5    7.6        7.2    9.7\n14    15  204.1   32.9       46.0   19.0\n15    16  195.4   47.7       52.9   22.4\n16    17   67.8   36.6      114.0   12.5\n17    18  281.4   39.6       55.8   24.4\n18    19   69.2   20.5       18.3   11.3\n19    20  147.3   23.9       19.1   14.6\n20    21  218.4   27.7       53.4   18.0\n21    22  237.4    5.1       23.5   12.5\n22    23   13.2   15.9       49.6    5.6\n23    24  228.3   16.9       26.2   15.5\n24    25   62.3   12.6       18.3    9.7\n25    26  262.9    3.5       19.5   12.0\n26    27  142.9   29.3       12.6   15.0\n27    28  240.1   16.7       22.9   15.9\n28    29  248.8   27.1       22.9   18.9\n29    30   70.6   16.0       40.8   10.5\n..   ...    ...    ...        ...    ...\n170  171   50.0   11.6       18.4    8.4\n171  172  164.5   20.9       47.4   14.5\n172  173   19.6   20.1       17.0    7.6\n173  174  168.4    7.1       12.8   11.7\n174  175  222.4    3.4       13.1   11.5\n175  176  276.9   48.9       41.8   27.0\n176  177  248.4   30.2       20.3   20.2\n177  178  170.2    7.8       35.2   11.7\n178  179  276.7    2.3       23.7   11.8\n179  180  165.6   10.0       17.6   12.6\n180  181  156.6    2.6        8.3   10.5\n181  182  218.5    5.4       27.4   12.2\n182  183   56.2    5.7       29.7    8.7\n183  184  287.6   43.0       71.8   26.2\n184  185  253.8   21.3       30.0   17.6\n185  186  205.0   45.1       19.6   22.6\n186  187  139.5    2.1       26.6   10.3\n187  188  191.1   28.7       18.2   17.3\n188  189  286.0   13.9        3.7   15.9\n189  190   18.7   12.1       23.4    6.7\n190  191   39.5   41.1        5.8   10.8\n191  192   75.5   10.8        6.0    9.9\n192  193   17.2    4.1       31.6    5.9\n193  194  166.8   42.0        3.6   19.6\n194  195  149.7   35.6        6.0   17.3\n195  196   38.2    3.7       13.8    7.6\n196  197   94.2    4.9        8.1    9.7\n197  198  177.0    9.3        6.4   12.8\n198  199  283.6   42.0       66.2   25.5\n199  200  232.1    8.6        8.7   13.4\n\n[200 rows x 5 columns]\n",
                    "name": "stdout"
                }
            ]
        },
        {
            "metadata": {},
            "cell_type": "code",
            "source": "print(data.describe())\n# gives you descriptive stats",
            "execution_count": 2,
            "outputs": [
                {
                    "output_type": "stream",
                    "text": "               No          TV       Radio   Newspaper       Sales\ncount  200.000000  200.000000  200.000000  200.000000  200.000000\nmean   100.500000  147.042500   23.264000   30.554000   14.022500\nstd     57.879185   85.854236   14.846809   21.778621    5.217457\nmin      1.000000    0.700000    0.000000    0.300000    1.600000\n25%     50.750000   74.375000    9.975000   12.750000   10.375000\n50%    100.500000  149.750000   22.900000   25.750000   12.900000\n75%    150.250000  218.825000   36.525000   45.100000   17.400000\nmax    200.000000  296.400000   49.600000  114.000000   27.000000\n",
                    "name": "stdout"
                }
            ]
        },
        {
            "metadata": {},
            "cell_type": "code",
            "source": "print(data.corr())\n# check relationship between variable.\n# Pos - 0....1\n# 0 - no correlation/no relationship\n# Neg - 0 .... -1\n",
            "execution_count": 3,
            "outputs": [
                {
                    "output_type": "stream",
                    "text": "                 No        TV     Radio  Newspaper     Sales\nNo         1.000000  0.017715 -0.110680  -0.154944 -0.051616\nTV         0.017715  1.000000  0.054809   0.056648  0.782224\nRadio     -0.110680  0.054809  1.000000   0.354104  0.576223\nNewspaper -0.154944  0.056648  0.354104   1.000000  0.228299\nSales     -0.051616  0.782224  0.576223   0.228299  1.000000\n",
                    "name": "stdout"
                }
            ]
        },
        {
            "metadata": {},
            "cell_type": "code",
            "source": "print(data.isnull().sum())\n# we sum all the empties by colmns",
            "execution_count": 4,
            "outputs": [
                {
                    "output_type": "stream",
                    "text": "No           0\nTV           0\nRadio        0\nNewspaper    0\nSales        0\ndtype: int64\n",
                    "name": "stdout"
                }
            ]
        },
        {
            "metadata": {},
            "cell_type": "code",
            "source": "# incase there was empties..you drop them\ndata.dropna(inplace=True)",
            "execution_count": 6,
            "outputs": []
        },
        {
            "metadata": {},
            "cell_type": "code",
            "source": "# What are we predicting? Why are we predicting it?  Why use sales? \n# model that can help in predicting Sales, Given other expenses features(TV, Radio, Newspaper).\n# features/input X - TV, Radio, Newspaper\n# outcomeY - Sales\narray = data.values\n\n# Split to X,Y\nX = array[:, 1:4] # 1..3, 4 is not here, there is a minus 1\nY = array[:, 4]   # 4 is here\n\n\nfrom sklearn.linear_model import LinearRegression\nmodel = LinearRegression()\nmodel.fit(X, Y)\n\n\n# We test the model using data\n# create different pipelines\n\n# skip test\npredictions = model.predict([[0,500,0]])  # 350 USD\nprint(predictions)\n",
            "execution_count": 28,
            "outputs": [
                {
                    "output_type": "stream",
                    "text": "[97.20389783]\n",
                    "name": "stdout"
                }
            ]
        },
        {
            "metadata": {},
            "cell_type": "code",
            "source": "import pandas\n# pandas is used to acquire data, prepare data and help data understanding\nimport sklearn\n# sklearn is used to create ML models, train, test/evaluate/deploy/\ndata2 = pandas.read_csv(\"http://modcom.co.ke/datasets/Customers.csv\")\nprint(data2)\n\n",
            "execution_count": 30,
            "outputs": [
                {
                    "output_type": "stream",
                    "text": "                                               Address            Avatar  \\\n0         835 Frank Tunnel\\nWrightmouth, MI 82180-9605            Violet   \n1       4547 Archer Common\\nDiazchester, CA 06566-8576         DarkGreen   \n2    24645 Valerie Unions Suite 582\\nCobbborough, D...            Bisque   \n3     1414 David Throughway\\nPort Jason, OH 22070-1220       SaddleBrown   \n4    14023 Rodriguez Passage\\nPort Jacobville, PR 3...  MediumAquaMarine   \n5    645 Martha Park Apt. 611\\nJeffreychester, MN 6...       FloralWhite   \n6    68388 Reyes Lights Suite 692\\nJosephbury, WV 9...     DarkSlateBlue   \n7                Unit 6538 Box 8980\\nDPO AP 09026-4941              Aqua   \n8               860 Lee Key\\nWest Debra, SD 97450-0495            Salmon   \n9                PSC 2734, Box 5255\\nAPO AA 98456-7482             Brown   \n10   26104 Alexander Groves\\nAlexandriaport, WY 282...            Tomato   \n11               Unit 2413 Box 0347\\nDPO AA 07580-2652            Tomato   \n12   6705 Miller Orchard Suite 186\\nLake Shanestad,...         RoyalBlue   \n13    05302 Dunlap Ferry\\nNew Stephaniehaven, MP 42268            Bisque   \n14   7773 Powell Springs Suite 190\\nSamanthaland, N...          DarkBlue   \n15   49558 Ramirez Road Suite 399\\nPhillipstad, OH ...              Peru   \n16         6362 Wilson Mountain\\nJohnsonfurt, GA 15169        PowderBlue   \n17                8982 Burton Row\\nWilsonton, PW 88606         OliveDrab   \n18   64475 Andre Club Apt. 795\\nPort Dannytown, PW ...              Cyan   \n19   544 Alexander Heights Suite 768\\nNorth Johnvie...     LightSeaGreen   \n20           84426 Julia Vista\\nNorth Teresa, KY 50756         PeachPuff   \n21               PSC 2490, Box 2120\\nAPO AE 15445-2876             Black   \n22                    PSC 5723, Box 8159\\nAPO AA 74738             Olive   \n23                    USNS Cardenas\\nFPO AA 85439-9449            Silver   \n24   019 Elliott Tunnel Suite 190\\nNicholsbury, WV ...             Wheat   \n25   9495 Mary Fall Apt. 777\\nGlassport, ND 17957-5596              Teal   \n26   657 Judith Crossroad\\nHancockchester, VI 75658...             Linen   \n27   8522 Regina Port Suite 782\\nPort Kaitlin, TX 5...   MediumSlateBlue   \n28       40000 Ann Port Suite 474\\nYoungberg, MS 03651      LemonChiffon   \n29   9507 Robert Prairie Apt. 601\\nEast Crystalview...        DarkOrchid   \n..                                                 ...               ...   \n470         272 Frederick Lodge\\nEast Andrew, FL 07414         SlateGray   \n471              9985 Wolf Pass\\nBrandimouth, CA 63346            Bisque   \n472              PSC 1790, Box 8872\\nAPO AE 01821-4769            Orange   \n473  4502 Jennifer Prairie Suite 029\\nLake Jesse, L...           DimGray   \n474  4307 Nicholas Drive Apt. 259\\nRamirezberg, AS ...        MediumBlue   \n475     5855 Gross Burgs Suite 169\\nBallland, AS 98525      AntiqueWhite   \n476  80500 Mary Corners Apt. 225\\nWallsville, ME 80526             Beige   \n477    344 Jessica Stravenue\\nNew Brian, MA 04730-6761             Beige   \n478  85181 Christian Courts Suite 758\\nLarryfurt, M...         PeachPuff   \n479           543 Reynolds Burg\\nMelindaberg, KY 46631         LightPink   \n480         549 Anna Avenue\\nPort Laura, CA 76209-9339        WhiteSmoke   \n481  214 Obrien Lakes Suite 572\\nSouth Jeremy, KS 5...      MediumOrchid   \n482          5661 Grant Centers\\nStevensfurt, CT 53959             Olive   \n483  768 Riley Pine Apt. 624\\nKellymouth, OK 98992-...         MistyRose   \n484  503 Adams Pines Apt. 638\\nNorth Ashleyside, AZ...           DarkRed   \n485  07813 Randy Point\\nLake Thomasberg, MO 06013-9920              Pink   \n486  38678 Sean Drive Suite 293\\nKarentown, IA 7830...          DarkGray   \n487    6820 Erica Vista Apt. 418\\nBrightside, IA 50639            Orchid   \n488  9909 Hoffman Ranch Suite 195\\nScotthaven, SC 5...         PeachPuff   \n489  513 Moore Crescent Apt. 416\\nAmandaberg, GU 03...           Magenta   \n490    7446 Mary Ferry\\nLake Sherryfurt, GA 49066-0207        GhostWhite   \n491  64147 Alexander Station Apt. 474\\nEast Jasonvi...          SeaShell   \n492   70128 Zimmerman Overpass\\nRobertsshire, VA 59860          DarkBlue   \n493  01242 Stephanie Ways Suite 003\\nChurchville, M...    MediumSeaGreen   \n494    354 Sanchez Wall Suite 884\\nJuliabury, VI 39735     DarkTurquoise   \n495  4483 Jones Motorway Suite 872\\nLake Jamiefurt,...               Tan   \n496  172 Owen Divide Suite 497\\nWest Richard, CA 19320     PaleVioletRed   \n497  0787 Andrews Ranch Apt. 633\\nSouth Chadburgh, ...          Cornsilk   \n498  680 Jennifer Lodge Apt. 808\\nBrendachester, TX...              Teal   \n499  49791 Rachel Heights Apt. 898\\nEast Drewboroug...       DarkMagenta   \n\n     Avg. Session Length  Time on App  Time on Website  Length of Membership  \\\n0              34.497268    12.655651        39.577668              4.082621   \n1              31.926272    11.109461        37.268959              2.664034   \n2              33.000915    11.330278        37.110597              4.104543   \n3              34.305557    13.717514        36.721283              3.120179   \n4              33.330673    12.795189        37.536653              4.446308   \n5              33.871038    12.026925        34.476878              5.493507   \n6              32.021596    11.366348        36.683776              4.685017   \n7              32.739143    12.351959        37.373359              4.434273   \n8              33.987773    13.386235        37.534497              3.273434   \n9              31.936549    11.814128        37.145168              3.202806   \n10             33.992573    13.338975        37.225806              2.482608   \n11             33.879361    11.584783        37.087926              3.713209   \n12             29.532429    10.961298        37.420216              4.046423   \n13             33.190334    12.959226        36.144667              3.918542   \n14             32.387976    13.148726        36.619957              2.494544   \n15             30.737720    12.636606        36.213763              3.357847   \n16             32.125387    11.733862        34.894093              3.136133   \n17             32.338899    12.013195        38.385137              2.420806   \n18             32.187812    14.715388        38.244115              1.516576   \n19             32.617856    13.989593        37.190504              4.064549   \n20             32.912785    11.365492        37.607793              4.599937   \n21             33.503087    12.877984        37.441021              1.559152   \n22             31.531604    13.378563        38.734006              2.245148   \n23             32.903251    11.657576        36.772604              3.919302   \n24             34.507551    12.893670        37.635756              5.705154   \n25             33.029332    11.765813        37.738525              2.721736   \n26             33.541231    12.783892        36.430650              4.648199   \n27             32.335990    13.007819        37.851779              2.996365   \n28             33.110205    11.982045        35.293088              3.923489   \n29             33.105438    11.965020        37.277812              4.742578   \n..                   ...          ...              ...                   ...   \n470            32.518197    11.509253        36.599289              3.022676   \n471            34.523020    11.405770        36.378271              4.041245   \n472            33.665990    12.263718        38.860234              3.139527   \n473            31.609840    12.710701        36.166463              2.562819   \n474            33.700886    13.471578        37.071643              2.379076   \n475            33.811733    11.186809        36.298893              4.301996   \n476            34.336677    11.246813        38.682584              2.094762   \n477            31.061325    12.357638        36.166042              4.089331   \n478            33.069768    11.764326        36.875026              3.516051   \n479            34.606242    11.761884        38.126520              1.820811   \n480            34.238242    11.550300        35.769330              4.183144   \n481            32.047815    12.482670        35.536025              3.393903   \n482            30.971676    11.731364        36.074551              4.426364   \n483            33.606851    12.214074        37.198428              2.905238   \n484            33.448125    11.903757        36.874544              2.782758   \n485            33.369381    12.222484        36.355235              3.447018   \n486            33.452295    12.005916        36.534096              4.712234   \n487            32.904692    11.913745        36.058648              1.228112   \n488            35.630854    12.125402        38.187764              4.019051   \n489            32.246350    11.305551        37.133127              1.707390   \n490            34.695591    11.608997        37.684877              3.163092   \n491            34.343922    11.693058        36.812934              3.447093   \n492            33.680937    11.201570        37.835448              2.208814   \n493            32.060914    12.625433        35.539142              5.412358   \n494            33.431097    13.350632        37.965972              2.768852   \n495            33.237660    13.566160        36.417985              3.746573   \n496            34.702529    11.695736        37.190268              3.576526   \n497            32.646777    11.499409        38.332576              4.958264   \n498            33.322501    12.391423        36.840086              2.336485   \n499            33.715981    12.418808        35.771016              2.735160   \n\n     Yearly Amount Spent  \n0             587.951054  \n1             392.204933  \n2             487.547505  \n3             581.852344  \n4             599.406092  \n5             637.102448  \n6             521.572175  \n7             549.904146  \n8             570.200409  \n9             427.199385  \n10            492.606013  \n11            522.337405  \n12            408.640351  \n13            573.415867  \n14            470.452733  \n15            461.780742  \n16            457.847696  \n17            407.704548  \n18            452.315675  \n19            605.061039  \n20            534.705744  \n21            419.938775  \n22            436.515606  \n23            519.340989  \n24            700.917092  \n25            423.179992  \n26            619.895640  \n27            486.838935  \n28            529.537665  \n29            554.722084  \n..                   ...  \n470           424.728774  \n471           541.049831  \n472           469.383146  \n473           444.545550  \n474           492.556834  \n475           535.321610  \n476           408.958336  \n477           487.555458  \n478           487.646232  \n479           402.167122  \n480           551.023002  \n481           497.389558  \n482           494.638610  \n483           479.247417  \n484           462.656519  \n485           515.502480  \n486           576.477607  \n487           357.857984  \n488           597.739879  \n489           327.377953  \n490           510.401388  \n491           510.501478  \n492           403.819520  \n493           627.603319  \n494           510.661792  \n495           573.847438  \n496           529.049004  \n497           551.620145  \n498           456.469510  \n499           497.778642  \n\n[500 rows x 7 columns]\n",
                    "name": "stdout"
                }
            ]
        },
        {
            "metadata": {},
            "cell_type": "code",
            "source": "print(data2.describe())",
            "execution_count": 31,
            "outputs": [
                {
                    "output_type": "stream",
                    "text": "       Avg. Session Length  Time on App  Time on Website  \\\ncount           500.000000   500.000000       500.000000   \nmean             33.053194    12.052488        37.060445   \nstd               0.992563     0.994216         1.010489   \nmin              29.532429     8.508152        33.913847   \n25%              32.341822    11.388153        36.349257   \n50%              33.082008    11.983231        37.069367   \n75%              33.711985    12.753850        37.716432   \nmax              36.139662    15.126994        40.005182   \n\n       Length of Membership  Yearly Amount Spent  \ncount            500.000000           500.000000  \nmean               3.533462           499.314038  \nstd                0.999278            79.314782  \nmin                0.269901           256.670582  \n25%                2.930450           445.038277  \n50%                3.533975           498.887875  \n75%                4.126502           549.313828  \nmax                6.922689           765.518462  \n",
                    "name": "stdout"
                }
            ]
        },
        {
            "metadata": {},
            "cell_type": "code",
            "source": "print(data2.corr())",
            "execution_count": 32,
            "outputs": [
                {
                    "output_type": "stream",
                    "text": "                      Avg. Session Length  Time on App  Time on Website  \\\nAvg. Session Length              1.000000    -0.027826        -0.034987   \nTime on App                     -0.027826     1.000000         0.082388   \nTime on Website                 -0.034987     0.082388         1.000000   \nLength of Membership             0.060247     0.029143        -0.047582   \nYearly Amount Spent              0.355088     0.499328        -0.002641   \n\n                      Length of Membership  Yearly Amount Spent  \nAvg. Session Length               0.060247             0.355088  \nTime on App                       0.029143             0.499328  \nTime on Website                  -0.047582            -0.002641  \nLength of Membership              1.000000             0.809084  \nYearly Amount Spent               0.809084             1.000000  \n",
                    "name": "stdout"
                }
            ]
        },
        {
            "metadata": {},
            "cell_type": "code",
            "source": "",
            "execution_count": null,
            "outputs": []
        }
    ],
    "metadata": {
        "kernelspec": {
            "name": "python3",
            "display_name": "Python 3.6",
            "language": "python"
        },
        "language_info": {
            "name": "python",
            "version": "3.6.9",
            "mimetype": "text/x-python",
            "codemirror_mode": {
                "name": "ipython",
                "version": 3
            },
            "pygments_lexer": "ipython3",
            "nbconvert_exporter": "python",
            "file_extension": ".py"
        }
    },
    "nbformat": 4,
    "nbformat_minor": 1
}